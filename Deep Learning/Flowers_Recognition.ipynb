{
 "cells": [
  {
   "cell_type": "markdown",
   "metadata": {
    "id": "BXgJ6uT1NydQ"
   },
   "source": [
    "## Assignment: Flowers Recognition \n",
    "**Dataset Description:**<br>\n",
    "\n",
    "This dataset contains 4242 images of flowers.<br>\n",
    "The data collection is based on the data flicr, google images, yandex images.<br>\n",
    "You can use this datastet to recognize plants from the photo.<br>\n",
    "\n",
    "Attribute Information:<br>\n",
    "The pictures are divided into five classes: chamomile, tulip, rose, sunflower, dandelion.<br>\n",
    "For each class there are about 800 photos. Photos are not high resolution, about 320x240 pixels. <br>\n",
    "<b>Also explore how to resize images in tensorflow and then resize all the images to a same size. </b> <br>\n",
    "This is a Multiclass Classification Problem.<br>\n",
    "\n",
    "\n"
   ]
  },
  {
   "cell_type": "markdown",
   "metadata": {
    "id": "T7vy-ktuOKJH"
   },
   "source": [
    "## WORKFLOW : <br>\n",
    "Load Data <br>\n",
    "Split into 60 and 40 ratio.<br>\n",
    "Encode labels.<br>\n",
    "Create Model<br>\n",
    "Compilation Step (Note : Its a Multiclass Classification problem , select loss , metrics according to it)<br>\n",
    "Train the Model.<br>\n",
    "If the model gets overfit tune your model by changing the units , No. of layers , epochs , add dropout layer or add Regularizer according to the need .<br>\n",
    "Prediction should be > 85%<br>\n",
    "Evaluation Step<br>\n",
    "Prediction<br>\n",
    "\n",
    "\n"
   ]
  },
  {
   "cell_type": "markdown",
   "metadata": {
    "id": "ri3Bg5qfPRic"
   },
   "source": [
    "Data : <br>\n",
    "https://drive.google.com/file/d/1-OX6wn5gA-bJpjPNfSyaYQLz-A-AB_uj/view?usp=sharing"
   ]
  },
  {
   "cell_type": "code",
   "execution_count": 1,
   "metadata": {
    "id": "hTtg3WuGTA1o"
   },
   "outputs": [],
   "source": [
    "import matplotlib.pyplot as plt\n",
    "import numpy as np\n",
    "import cv2\n",
    "import pandas as pd\n",
    "import pathlib\n",
    "from pathlib import Path"
   ]
  },
  {
   "cell_type": "code",
   "execution_count": 2,
   "metadata": {
    "colab": {
     "base_uri": "https://localhost:8080/"
    },
    "id": "nMx-7wNuHBQu",
    "outputId": "b2053d07-6154-4538-bc66-fbe06e992156"
   },
   "outputs": [
    {
     "name": "stdout",
     "output_type": "stream",
     "text": [
      "Drive already mounted at /content/drive; to attempt to forcibly remount, call drive.mount(\"/content/drive\", force_remount=True).\n"
     ]
    }
   ],
   "source": [
    "from google.colab import drive\n",
    "drive.mount(\"/content/drive\")"
   ]
  },
  {
   "cell_type": "code",
   "execution_count": 3,
   "metadata": {
    "colab": {
     "base_uri": "https://localhost:8080/"
    },
    "id": "BcgVpzDLPtAb",
    "outputId": "9fc316fe-1a6d-4559-e27c-3f6afef0eb6f"
   },
   "outputs": [
    {
     "name": "stdout",
     "output_type": "stream",
     "text": [
      "rose\n",
      "sunflower\n",
      "tulip\n",
      "daisy\n",
      "dandelion\n"
     ]
    }
   ],
   "source": [
    "# Loading Data And Defining Features And Labels\n",
    "directory = Path(\"/content/drive/MyDrive/flowers/flowers\")\n",
    "\n",
    "image_names = []\n",
    "data_images = []\n",
    "labels = []\n",
    "\n",
    "# Iterating Over Directory To Extract Sub Directories\n",
    "for dir in directory.iterdir():\n",
    "  image_names.append(dir.name)\n",
    "  print(dir.name)\n",
    "# Iterating Over Sub Directories To Extract Lables\n",
    "  for imgpath in dir.iterdir():\n",
    "    if imgpath.name.endswith(\"jpg\"):\n",
    "      labels.append(dir.name)\n",
    "      imgarr = cv2.imread(str(imgpath), cv2.IMREAD_GRAYSCALE)\n",
    "      imgarr = cv2.resize(imgarr, (320,240))\n",
    "      data_images.append(imgarr)"
   ]
  },
  {
   "cell_type": "code",
   "execution_count": 4,
   "metadata": {
    "id": "Bq5M5N3OyIpo"
   },
   "outputs": [],
   "source": [
    "# maping the string label into numeric \n",
    "df=pd.DataFrame(labels)\n",
    "labels=df[0].map({\"rose\":0,\"sunflower\":1,\"tulip\":2,\"daisy\":3,\"dandelion\":4})\n"
   ]
  },
  {
   "cell_type": "code",
   "execution_count": 5,
   "metadata": {
    "id": "PVCjHSU4H1yP"
   },
   "outputs": [],
   "source": [
    "# data and label spliting by machine learning libarary\n",
    "import sklearn\n",
    "from sklearn.model_selection import train_test_split\n",
    "X_train,X_test,y_train,y_test=train_test_split(data_images,labels,test_size=.40,random_state=0)"
   ]
  },
  {
   "cell_type": "code",
   "execution_count": 6,
   "metadata": {
    "id": "mDomXtB4yp8N"
   },
   "outputs": [],
   "source": [
    "#convert data into numpy array and data type float\n",
    "X_train=np.asarray(X_train).astype(\"float32\")\n",
    "X_test=np.asarray(X_test).astype(\"float32\")\n",
    "\n"
   ]
  },
  {
   "cell_type": "code",
   "execution_count": 7,
   "metadata": {
    "colab": {
     "base_uri": "https://localhost:8080/"
    },
    "id": "Y5oX13lcyuzM",
    "outputId": "fc9945ab-9e5b-4351-d6c4-860d16e1526b"
   },
   "outputs": [
    {
     "name": "stdout",
     "output_type": "stream",
     "text": [
      "shape of training data is :(2593, 240, 320)\n",
      "shape of training label is :(2593,)\n",
      "shape of testing data is :(1730, 240, 320)\n",
      "shape of testing label is :(1730,)\n"
     ]
    }
   ],
   "source": [
    "\n",
    "# Check the shape of training data,testing data,training labels,testing labels\n",
    "print(f\"shape of training data is :{X_train.shape}\\nshape of training label is :{y_train.shape}\\nshape of testing data is :{X_test.shape}\\nshape of testing label is :{y_test.shape}\")"
   ]
  },
  {
   "cell_type": "code",
   "execution_count": 8,
   "metadata": {
    "id": "5h0E4IDjiHu7"
   },
   "outputs": [],
   "source": [
    "#reshaping\n",
    "X_train=X_train.reshape(2593,320*240)\n",
    "X_test=X_test.reshape(1730,320*240)\n",
    "\n"
   ]
  },
  {
   "cell_type": "code",
   "execution_count": 9,
   "metadata": {
    "colab": {
     "base_uri": "https://localhost:8080/"
    },
    "id": "_QgNXLxOOL3L",
    "outputId": "d201cfa6-9544-453a-87b4-7c622cefd70f"
   },
   "outputs": [
    {
     "data": {
      "text/plain": [
       "array([27., 24., 26., ..., 90., 91., 92.], dtype=float32)"
      ]
     },
     "execution_count": 9,
     "metadata": {
      "tags": []
     },
     "output_type": "execute_result"
    }
   ],
   "source": [
    "#check value of train data\n",
    "X_train[0]"
   ]
  },
  {
   "cell_type": "code",
   "execution_count": 10,
   "metadata": {
    "colab": {
     "base_uri": "https://localhost:8080/"
    },
    "id": "jo5n5Ih_O8tq",
    "outputId": "a778eb11-af94-4640-abf8-1a75822e2ad8"
   },
   "outputs": [
    {
     "data": {
      "text/plain": [
       "array([77., 78., 84., ..., 28., 29., 31.], dtype=float32)"
      ]
     },
     "execution_count": 10,
     "metadata": {
      "tags": []
     },
     "output_type": "execute_result"
    }
   ],
   "source": [
    "#check value of test data\n",
    "X_test[0]"
   ]
  },
  {
   "cell_type": "code",
   "execution_count": 11,
   "metadata": {
    "id": "DMHVsmI-yxxA"
   },
   "outputs": [],
   "source": [
    "#normalize the data\n",
    "X_train=X_train/255.0\n",
    "X_test=X_test/255.0"
   ]
  },
  {
   "cell_type": "code",
   "execution_count": 12,
   "metadata": {
    "id": "ZJo3XdvZy7lX"
   },
   "outputs": [],
   "source": [
    " from keras.utils import to_categorical\n",
    " y_train=to_categorical(y_train)\n",
    " y_test=to_categorical(y_test)"
   ]
  },
  {
   "cell_type": "code",
   "execution_count": 13,
   "metadata": {
    "id": "cLM9_nHbzGsB"
   },
   "outputs": [],
   "source": [
    "# importing keras libararies\n",
    "from tensorflow.keras.models import Sequential\n",
    "from tensorflow.keras.layers import Dense, Dropout\n",
    "from keras.optimizers import Adam, RMSprop"
   ]
  },
  {
   "cell_type": "code",
   "execution_count": 14,
   "metadata": {
    "id": "HtihsfANQZkq"
   },
   "outputs": [],
   "source": [
    "#model building\n",
    "network=Sequential()\n",
    "network.add(Dense(256,activation=\"relu\",input_shape=(X_train.shape[1],)))\n",
    "network.add(Dropout(0.2))\n",
    "network.add(Dense(128,activation=\"relu\"))\n",
    "#network.add(Dropout(0.2))\n",
    "network.add(Dense(64,activation=\"relu\"))\n",
    "network.add(Dropout(0.2))\n",
    "network.add(Dense(5,activation=\"softmax\"))"
   ]
  },
  {
   "cell_type": "code",
   "execution_count": 15,
   "metadata": {
    "colab": {
     "base_uri": "https://localhost:8080/"
    },
    "id": "haSeIl3ARoxH",
    "outputId": "161ba98c-dadd-4084-bc00-faa789af80ff"
   },
   "outputs": [
    {
     "name": "stdout",
     "output_type": "stream",
     "text": [
      "Model: \"sequential\"\n",
      "_________________________________________________________________\n",
      "Layer (type)                 Output Shape              Param #   \n",
      "=================================================================\n",
      "dense (Dense)                (None, 256)               19661056  \n",
      "_________________________________________________________________\n",
      "dropout (Dropout)            (None, 256)               0         \n",
      "_________________________________________________________________\n",
      "dense_1 (Dense)              (None, 128)               32896     \n",
      "_________________________________________________________________\n",
      "dense_2 (Dense)              (None, 64)                8256      \n",
      "_________________________________________________________________\n",
      "dropout_1 (Dropout)          (None, 64)                0         \n",
      "_________________________________________________________________\n",
      "dense_3 (Dense)              (None, 5)                 325       \n",
      "=================================================================\n",
      "Total params: 19,702,533\n",
      "Trainable params: 19,702,533\n",
      "Non-trainable params: 0\n",
      "_________________________________________________________________\n"
     ]
    }
   ],
   "source": [
    "#model summary\n",
    "network.summary()"
   ]
  },
  {
   "cell_type": "code",
   "execution_count": 16,
   "metadata": {
    "id": "8OhgQuFyGcl4"
   },
   "outputs": [],
   "source": [
    "# Compilation Step\n",
    "network.compile(optimizer=RMSprop(0.0001), loss = 'categorical_crossentropy', metrics = ['accuracy'])"
   ]
  },
  {
   "cell_type": "code",
   "execution_count": 17,
   "metadata": {
    "colab": {
     "base_uri": "https://localhost:8080/"
    },
    "id": "Z6W7Sh-2SVbE",
    "outputId": "ff4a317c-33e4-41c9-b442-271a7a82c956"
   },
   "outputs": [
    {
     "name": "stdout",
     "output_type": "stream",
     "text": [
      "Epoch 1/100\n",
      "130/130 [==============================] - 3s 13ms/step - loss: 2.9145 - accuracy: 0.2288\n",
      "Epoch 2/100\n",
      "130/130 [==============================] - 2s 13ms/step - loss: 1.6001 - accuracy: 0.2522\n",
      "Epoch 3/100\n",
      "130/130 [==============================] - 2s 13ms/step - loss: 1.5747 - accuracy: 0.2705\n",
      "Epoch 4/100\n",
      "130/130 [==============================] - 2s 13ms/step - loss: 1.5820 - accuracy: 0.2698\n",
      "Epoch 5/100\n",
      "130/130 [==============================] - 2s 13ms/step - loss: 1.5698 - accuracy: 0.2723\n",
      "Epoch 6/100\n",
      "130/130 [==============================] - 2s 13ms/step - loss: 1.5652 - accuracy: 0.2837\n",
      "Epoch 7/100\n",
      "130/130 [==============================] - 2s 12ms/step - loss: 1.5580 - accuracy: 0.2781\n",
      "Epoch 8/100\n",
      "130/130 [==============================] - 2s 13ms/step - loss: 1.5507 - accuracy: 0.2929\n",
      "Epoch 9/100\n",
      "130/130 [==============================] - 2s 13ms/step - loss: 1.5584 - accuracy: 0.2887\n",
      "Epoch 10/100\n",
      "130/130 [==============================] - 2s 12ms/step - loss: 1.5475 - accuracy: 0.2962\n",
      "Epoch 11/100\n",
      "130/130 [==============================] - 2s 13ms/step - loss: 1.5271 - accuracy: 0.3047\n",
      "Epoch 12/100\n",
      "130/130 [==============================] - 2s 13ms/step - loss: 1.5152 - accuracy: 0.3272\n",
      "Epoch 13/100\n",
      "130/130 [==============================] - 2s 13ms/step - loss: 1.5358 - accuracy: 0.2870\n",
      "Epoch 14/100\n",
      "130/130 [==============================] - 2s 12ms/step - loss: 1.5193 - accuracy: 0.3010\n",
      "Epoch 15/100\n",
      "130/130 [==============================] - 2s 13ms/step - loss: 1.5197 - accuracy: 0.2945\n",
      "Epoch 16/100\n",
      "130/130 [==============================] - 2s 13ms/step - loss: 1.5040 - accuracy: 0.3145\n",
      "Epoch 17/100\n",
      "130/130 [==============================] - 2s 13ms/step - loss: 1.5124 - accuracy: 0.2994\n",
      "Epoch 18/100\n",
      "130/130 [==============================] - 2s 13ms/step - loss: 1.5095 - accuracy: 0.3155\n",
      "Epoch 19/100\n",
      "130/130 [==============================] - 2s 13ms/step - loss: 1.5121 - accuracy: 0.3177\n",
      "Epoch 20/100\n",
      "130/130 [==============================] - 2s 13ms/step - loss: 1.4910 - accuracy: 0.3225\n",
      "Epoch 21/100\n",
      "130/130 [==============================] - 2s 12ms/step - loss: 1.4925 - accuracy: 0.3123\n",
      "Epoch 22/100\n",
      "130/130 [==============================] - 2s 13ms/step - loss: 1.4713 - accuracy: 0.3489\n",
      "Epoch 23/100\n",
      "130/130 [==============================] - 2s 13ms/step - loss: 1.4610 - accuracy: 0.3389\n",
      "Epoch 24/100\n",
      "130/130 [==============================] - 2s 13ms/step - loss: 1.4548 - accuracy: 0.3315\n",
      "Epoch 25/100\n",
      "130/130 [==============================] - 2s 13ms/step - loss: 1.4615 - accuracy: 0.3435\n",
      "Epoch 26/100\n",
      "130/130 [==============================] - 2s 13ms/step - loss: 1.4677 - accuracy: 0.3193\n",
      "Epoch 27/100\n",
      "130/130 [==============================] - 2s 12ms/step - loss: 1.4545 - accuracy: 0.3427\n",
      "Epoch 28/100\n",
      "130/130 [==============================] - 2s 13ms/step - loss: 1.4388 - accuracy: 0.3602\n",
      "Epoch 29/100\n",
      "130/130 [==============================] - 2s 13ms/step - loss: 1.4380 - accuracy: 0.3514\n",
      "Epoch 30/100\n",
      "130/130 [==============================] - 2s 13ms/step - loss: 1.4253 - accuracy: 0.3508\n",
      "Epoch 31/100\n",
      "130/130 [==============================] - 2s 13ms/step - loss: 1.4380 - accuracy: 0.3582\n",
      "Epoch 32/100\n",
      "130/130 [==============================] - 2s 12ms/step - loss: 1.4154 - accuracy: 0.3657\n",
      "Epoch 33/100\n",
      "130/130 [==============================] - 2s 12ms/step - loss: 1.4139 - accuracy: 0.3759\n",
      "Epoch 34/100\n",
      "130/130 [==============================] - 2s 13ms/step - loss: 1.3912 - accuracy: 0.3701\n",
      "Epoch 35/100\n",
      "130/130 [==============================] - 2s 13ms/step - loss: 1.3994 - accuracy: 0.3866\n",
      "Epoch 36/100\n",
      "130/130 [==============================] - 2s 12ms/step - loss: 1.4070 - accuracy: 0.3799\n",
      "Epoch 37/100\n",
      "130/130 [==============================] - 2s 12ms/step - loss: 1.3862 - accuracy: 0.3790\n",
      "Epoch 38/100\n",
      "130/130 [==============================] - 2s 13ms/step - loss: 1.3675 - accuracy: 0.4016\n",
      "Epoch 39/100\n",
      "130/130 [==============================] - 2s 13ms/step - loss: 1.3673 - accuracy: 0.4094\n",
      "Epoch 40/100\n",
      "130/130 [==============================] - 2s 13ms/step - loss: 1.3675 - accuracy: 0.3992\n",
      "Epoch 41/100\n",
      "130/130 [==============================] - 2s 13ms/step - loss: 1.3712 - accuracy: 0.3870\n",
      "Epoch 42/100\n",
      "130/130 [==============================] - 2s 13ms/step - loss: 1.3304 - accuracy: 0.4247\n",
      "Epoch 43/100\n",
      "130/130 [==============================] - 2s 13ms/step - loss: 1.3568 - accuracy: 0.4028\n",
      "Epoch 44/100\n",
      "130/130 [==============================] - 2s 13ms/step - loss: 1.3374 - accuracy: 0.4282\n",
      "Epoch 45/100\n",
      "130/130 [==============================] - 2s 13ms/step - loss: 1.3485 - accuracy: 0.4191\n",
      "Epoch 46/100\n",
      "130/130 [==============================] - 2s 13ms/step - loss: 1.3357 - accuracy: 0.4106\n",
      "Epoch 47/100\n",
      "130/130 [==============================] - 2s 12ms/step - loss: 1.3279 - accuracy: 0.4243\n",
      "Epoch 48/100\n",
      "130/130 [==============================] - 2s 13ms/step - loss: 1.3268 - accuracy: 0.4214\n",
      "Epoch 49/100\n",
      "130/130 [==============================] - 2s 12ms/step - loss: 1.3076 - accuracy: 0.4313\n",
      "Epoch 50/100\n",
      "130/130 [==============================] - 2s 13ms/step - loss: 1.2994 - accuracy: 0.4363\n",
      "Epoch 51/100\n",
      "130/130 [==============================] - 2s 13ms/step - loss: 1.3366 - accuracy: 0.4231\n",
      "Epoch 52/100\n",
      "130/130 [==============================] - 2s 13ms/step - loss: 1.3084 - accuracy: 0.4413\n",
      "Epoch 53/100\n",
      "130/130 [==============================] - 2s 13ms/step - loss: 1.3084 - accuracy: 0.4084\n",
      "Epoch 54/100\n",
      "130/130 [==============================] - 2s 13ms/step - loss: 1.3120 - accuracy: 0.4325\n",
      "Epoch 55/100\n",
      "130/130 [==============================] - 2s 13ms/step - loss: 1.2828 - accuracy: 0.4410\n",
      "Epoch 56/100\n",
      "130/130 [==============================] - 2s 13ms/step - loss: 1.2797 - accuracy: 0.4508\n",
      "Epoch 57/100\n",
      "130/130 [==============================] - 2s 13ms/step - loss: 1.2570 - accuracy: 0.4565\n",
      "Epoch 58/100\n",
      "130/130 [==============================] - 2s 13ms/step - loss: 1.2957 - accuracy: 0.4226\n",
      "Epoch 59/100\n",
      "130/130 [==============================] - 2s 13ms/step - loss: 1.2518 - accuracy: 0.4662\n",
      "Epoch 60/100\n",
      "130/130 [==============================] - 2s 13ms/step - loss: 1.3016 - accuracy: 0.4584\n",
      "Epoch 61/100\n",
      "130/130 [==============================] - 2s 13ms/step - loss: 1.2797 - accuracy: 0.4550\n",
      "Epoch 62/100\n",
      "130/130 [==============================] - 2s 13ms/step - loss: 1.2569 - accuracy: 0.4604\n",
      "Epoch 63/100\n",
      "130/130 [==============================] - 2s 13ms/step - loss: 1.2645 - accuracy: 0.4432\n",
      "Epoch 64/100\n",
      "130/130 [==============================] - 2s 13ms/step - loss: 1.2438 - accuracy: 0.4711\n",
      "Epoch 65/100\n",
      "130/130 [==============================] - 2s 13ms/step - loss: 1.2357 - accuracy: 0.4801\n",
      "Epoch 66/100\n",
      "130/130 [==============================] - 2s 13ms/step - loss: 1.2832 - accuracy: 0.4709\n",
      "Epoch 67/100\n",
      "130/130 [==============================] - 2s 13ms/step - loss: 1.2211 - accuracy: 0.4771\n",
      "Epoch 68/100\n",
      "130/130 [==============================] - 2s 13ms/step - loss: 1.2588 - accuracy: 0.4631\n",
      "Epoch 69/100\n",
      "130/130 [==============================] - 2s 13ms/step - loss: 1.2376 - accuracy: 0.4560\n",
      "Epoch 70/100\n",
      "130/130 [==============================] - 2s 13ms/step - loss: 1.2300 - accuracy: 0.4750\n",
      "Epoch 71/100\n",
      "130/130 [==============================] - 2s 13ms/step - loss: 1.1974 - accuracy: 0.4982\n",
      "Epoch 72/100\n",
      "130/130 [==============================] - 2s 13ms/step - loss: 1.2009 - accuracy: 0.4978\n",
      "Epoch 73/100\n",
      "130/130 [==============================] - 2s 13ms/step - loss: 1.2287 - accuracy: 0.4806\n",
      "Epoch 74/100\n",
      "130/130 [==============================] - 2s 13ms/step - loss: 1.1921 - accuracy: 0.4961\n",
      "Epoch 75/100\n",
      "130/130 [==============================] - 2s 13ms/step - loss: 1.1774 - accuracy: 0.5132\n",
      "Epoch 76/100\n",
      "130/130 [==============================] - 2s 13ms/step - loss: 1.1963 - accuracy: 0.4818\n",
      "Epoch 77/100\n",
      "130/130 [==============================] - 2s 13ms/step - loss: 1.1855 - accuracy: 0.4974\n",
      "Epoch 78/100\n",
      "130/130 [==============================] - 2s 13ms/step - loss: 1.1357 - accuracy: 0.5136\n",
      "Epoch 79/100\n",
      "130/130 [==============================] - 2s 13ms/step - loss: 1.1880 - accuracy: 0.4915\n",
      "Epoch 80/100\n",
      "130/130 [==============================] - 2s 13ms/step - loss: 1.1728 - accuracy: 0.4932\n",
      "Epoch 81/100\n",
      "130/130 [==============================] - 2s 13ms/step - loss: 1.1616 - accuracy: 0.5206\n",
      "Epoch 82/100\n",
      "130/130 [==============================] - 2s 13ms/step - loss: 1.1555 - accuracy: 0.5079\n",
      "Epoch 83/100\n",
      "130/130 [==============================] - 2s 13ms/step - loss: 1.1615 - accuracy: 0.5122\n",
      "Epoch 84/100\n",
      "130/130 [==============================] - 2s 13ms/step - loss: 1.1535 - accuracy: 0.5280\n",
      "Epoch 85/100\n",
      "130/130 [==============================] - 2s 13ms/step - loss: 1.1282 - accuracy: 0.5440\n",
      "Epoch 86/100\n",
      "130/130 [==============================] - 2s 13ms/step - loss: 1.1441 - accuracy: 0.5166\n",
      "Epoch 87/100\n",
      "130/130 [==============================] - 2s 13ms/step - loss: 1.1394 - accuracy: 0.5286\n",
      "Epoch 88/100\n",
      "130/130 [==============================] - 2s 13ms/step - loss: 1.1331 - accuracy: 0.5100\n",
      "Epoch 89/100\n",
      "130/130 [==============================] - 2s 13ms/step - loss: 1.1312 - accuracy: 0.5443\n",
      "Epoch 90/100\n",
      "130/130 [==============================] - 2s 13ms/step - loss: 1.1183 - accuracy: 0.5358\n",
      "Epoch 91/100\n",
      "130/130 [==============================] - 2s 13ms/step - loss: 1.1504 - accuracy: 0.5285\n",
      "Epoch 92/100\n",
      "130/130 [==============================] - 2s 13ms/step - loss: 1.1311 - accuracy: 0.5257\n",
      "Epoch 93/100\n",
      "130/130 [==============================] - 2s 13ms/step - loss: 1.0926 - accuracy: 0.5349\n",
      "Epoch 94/100\n",
      "130/130 [==============================] - 2s 13ms/step - loss: 1.1041 - accuracy: 0.5593\n",
      "Epoch 95/100\n",
      "130/130 [==============================] - 2s 13ms/step - loss: 1.0928 - accuracy: 0.5291\n",
      "Epoch 96/100\n",
      "130/130 [==============================] - 2s 13ms/step - loss: 1.1275 - accuracy: 0.5288\n",
      "Epoch 97/100\n",
      "130/130 [==============================] - 2s 13ms/step - loss: 1.1169 - accuracy: 0.5408\n",
      "Epoch 98/100\n",
      "130/130 [==============================] - 2s 13ms/step - loss: 1.0644 - accuracy: 0.5553\n",
      "Epoch 99/100\n",
      "130/130 [==============================] - 2s 13ms/step - loss: 1.1043 - accuracy: 0.5570\n",
      "Epoch 100/100\n",
      "130/130 [==============================] - 2s 13ms/step - loss: 1.0990 - accuracy: 0.5555\n"
     ]
    }
   ],
   "source": [
    "\n",
    "history=network.fit(X_train, y_train,batch_size=20,epochs=100)"
   ]
  },
  {
   "cell_type": "code",
   "execution_count": 18,
   "metadata": {
    "colab": {
     "base_uri": "https://localhost:8080/"
    },
    "id": "IB12EblmSVvQ",
    "outputId": "d1fa8b47-8f80-4094-d5d8-cb6daf085b64"
   },
   "outputs": [
    {
     "data": {
      "text/plain": [
       "['accuracy', 'loss']"
      ]
     },
     "execution_count": 18,
     "metadata": {
      "tags": []
     },
     "output_type": "execute_result"
    }
   ],
   "source": [
    "history_dict = history.history\n",
    "history_dict.keys()\n",
    "[u'accuracy', u'loss']"
   ]
  },
  {
   "cell_type": "code",
   "execution_count": 19,
   "metadata": {
    "colab": {
     "base_uri": "https://localhost:8080/",
     "height": 295
    },
    "id": "OI-pV845zMyp",
    "outputId": "cccc894c-ac64-4c0d-97a0-675420dda91f"
   },
   "outputs": [
    {
     "data": {
      "image/png": "[encoded data removed]",
      "text/plain": [
       "<Figure size 432x288 with 1 Axes>"
      ]
     },
     "metadata": {
      "needs_background": "light",
      "tags": []
     },
     "output_type": "display_data"
    }
   ],
   "source": [
    "import matplotlib.pyplot as plt\n",
    "history_dict = history.history\n",
    "loss_values = history_dict['loss']\n",
    "val_accuracy = history_dict['accuracy']\n",
    "epochs = range(1, len(history_dict['accuracy']) + 1)\n",
    "plt.plot(epochs, loss_values, 'r', label='loss')\n",
    "plt.plot(epochs, val_accuracy, 'b', label='accuracy')\n",
    "plt.title('loss and accuracy')\n",
    "plt.xlabel('Epochs')\n",
    "plt.ylabel('Loss')\n",
    "plt.legend()\n",
    "plt.grid()\n",
    "plt.show()"
   ]
  },
  {
   "cell_type": "code",
   "execution_count": 20,
   "metadata": {
    "colab": {
     "base_uri": "https://localhost:8080/"
    },
    "id": "8tdmwvlezbLI",
    "outputId": "80fd7e71-dacf-4518-c0f3-51d9a2896945"
   },
   "outputs": [
    {
     "name": "stdout",
     "output_type": "stream",
     "text": [
      "55/55 [==============================] - 0s 6ms/step - loss: 2.0018 - accuracy: 0.2896\n"
     ]
    },
    {
     "data": {
      "text/plain": [
       "[2.001847505569458, 0.289595365524292]"
      ]
     },
     "execution_count": 20,
     "metadata": {
      "tags": []
     },
     "output_type": "execute_result"
    }
   ],
   "source": [
    "network.evaluate(X_test,y_test)"
   ]
  },
  {
   "cell_type": "code",
   "execution_count": 21,
   "metadata": {
    "colab": {
     "base_uri": "https://localhost:8080/"
    },
    "id": "VdOw1dZRSF2H",
    "outputId": "de0b60eb-9ae7-4ad7-9e35-5e386feccfe0"
   },
   "outputs": [
    {
     "name": "stdout",
     "output_type": "stream",
     "text": [
      "1 ==> [0. 0. 1. 0. 0.]\n",
      "4 ==> [0. 0. 0. 0. 1.]\n",
      "2 ==> [0. 0. 0. 0. 1.]\n",
      "1 ==> [0. 1. 0. 0. 0.]\n",
      "1 ==> [0. 1. 0. 0. 0.]\n",
      "1 ==> [0. 0. 0. 0. 1.]\n",
      "2 ==> [0. 0. 0. 1. 0.]\n",
      "2 ==> [0. 0. 0. 1. 0.]\n",
      "0 ==> [0. 0. 0. 0. 1.]\n",
      "2 ==> [1. 0. 0. 0. 0.]\n"
     ]
    },
    {
     "name": "stderr",
     "output_type": "stream",
     "text": [
      "/usr/local/lib/python3.7/dist-packages/tensorflow/python/keras/engine/sequential.py:450: UserWarning: `model.predict_classes()` is deprecated and will be removed after 2021-01-01. Please use instead:* `np.argmax(model.predict(x), axis=-1)`,   if your model does multi-class classification   (e.g. if it uses a `softmax` last-layer activation).* `(model.predict(x) > 0.5).astype(\"int32\")`,   if your model does binary classification   (e.g. if it uses a `sigmoid` last-layer activation).\n",
      "  warnings.warn('`model.predict_classes()` is deprecated and '\n"
     ]
    }
   ],
   "source": [
    "pred = network.predict_classes(X_test[:10])\n",
    "for i in range(len(pred)):\n",
    "    print(pred[i],'==>',y_test[i])"
   ]
  }
 ],
 "metadata": {
  "accelerator": "GPU",
  "colab": {
   "include_colab_link": true,
   "name": "Flowers_Recognition(PIAIC_108205).ipynb",
   "provenance": []
  },
  "kernelspec": {
   "display_name": "Python 3",
   "language": "python",
   "name": "python3"
  },
  "language_info": {
   "codemirror_mode": {
    "name": "ipython",
    "version": 3
   },
   "file_extension": ".py",
   "mimetype": "text/x-python",
   "name": "python",
   "nbconvert_exporter": "python",
   "pygments_lexer": "ipython3",
   "version": "3.7.9"
  }
 },
 "nbformat": 4,
 "nbformat_minor": 1
}
