{
 "cells": [
  {
   "cell_type": "markdown",
   "metadata": {
    "id": "nnlyIQflOZJG"
   },
   "source": [
    "# Assignment: Compresive Strength Concrete Problem\n",
    "\n",
    "\n",
    "### Abstract: \n",
    "\n",
    "Concrete is the most important material in civil engineering. The concrete compressive strength (concrete strength to bear the load) is a highly nonlinear function of age and ingredients.  <br><br>\n",
    "\n",
    "<table border=\"1\"  cellpadding=\"6\" bordercolor=\"red\">\n",
    "\t<tbody>\n",
    "        <tr>\n",
    "\t\t<td bgcolor=\"#DDEEFF\"><p class=\"normal\"><b>Data Set Characteristics:&nbsp;&nbsp;</b></p></td>\n",
    "\t\t<td><p class=\"normal\">Multivariate</p></td>\n",
    "\t\t<td bgcolor=\"#DDEEFF\"><p class=\"normal\"><b>Number of Instances:</b></p></td>\n",
    "\t\t<td><p class=\"normal\">1030</p></td>\n",
    "\t\t<td bgcolor=\"#DDEEFF\"><p class=\"normal\"><b>Area:</b></p></td>\n",
    "\t\t<td><p class=\"normal\">Physical</p></td>\n",
    "        </tr>\n",
    "     </tbody>\n",
    "    </table>\n",
    "<table border=\"1\" cellpadding=\"6\">\n",
    "    <tbody>\n",
    "        <tr>\n",
    "            <td bgcolor=\"#DDEEFF\"><p class=\"normal\"><b>Attribute Characteristics:</b></p></td>\n",
    "            <td><p class=\"normal\">Real</p></td>\n",
    "            <td bgcolor=\"#DDEEFF\"><p class=\"normal\"><b>Number of Attributes:</b></p></td>\n",
    "            <td><p class=\"normal\">9</p></td>\n",
    "            <td bgcolor=\"#DDEEFF\"><p class=\"normal\"><b>Date Donated</b></p></td>\n",
    "            <td><p class=\"normal\">2007-08-03</p></td>\n",
    "        </tr>\n",
    "     </tbody>\n",
    "    </table>\n",
    "<table border=\"1\" cellpadding=\"6\">\t\n",
    "    <tbody>\n",
    "    <tr>\n",
    "\t\t<td bgcolor=\"#DDEEFF\"><p class=\"normal\"><b>Associated Tasks:</b></p></td>\n",
    "\t\t<td><p class=\"normal\">Regression</p></td>\n",
    "\t\t<td bgcolor=\"#DDEEFF\"><p class=\"normal\"><b>Missing Values?</b></p></td>\n",
    "\t\t<td><p class=\"normal\">N/A</p></td>\n",
    "\t\t<td bgcolor=\"#DDEEFF\"><p class=\"normal\"><b>Number of Web Hits:</b></p></td>\n",
    "\t\t<td><p class=\"normal\">231464</p></td>\n",
    "\t</tr>\n",
    "    </tbody>\n",
    "    </table>"
   ]
  },
  {
   "cell_type": "markdown",
   "metadata": {
    "id": "wDVdvMBAOZJL"
   },
   "source": [
    "###  Description:\n",
    "| Features Name | Data Type | Measurement | Description |\n",
    "| -- | -- | -- | -- |\n",
    "Cement (component 1) | quantitative | kg in a m3 mixture | Input Variable\n",
    "Blast Furnace Slag (component 2) | quantitative | kg in a m3 mixture | Input Variable\n",
    "Fly Ash (component 3) | quantitative | kg in a m3 mixture | Input Variable\n",
    "Water (component 4) | quantitative | kg in a m3 mixture | Input Variable\n",
    "Superplasticizer (component 5) | quantitative | kg in a m3 mixture | Input Variable\n",
    "Coarse Aggregate (component 6) | quantitative | kg in a m3 mixture | Input Variable\n",
    "Fine Aggregate (component 7) | quantitative | kg in a m3 mixture | Input Variable\n",
    "Age | quantitative | Day (1~365) | Input Variable\n",
    "Concrete compressive strength | quantitative | MPa | Output Variable\n",
    "\n",
    "### WORKFLOW :\n",
    "- Load Data\n",
    "- Check Missing Values ( If Exist ; Fill each record with mean of its feature )\n",
    "- Standardized the Input Variables. **Hint**: Centeralized the data\n",
    "- Split into 50% Training(Samples,Labels) , 30% Test(Samples,Labels) and 20% Validation Data(Samples,Labels).\n",
    "- Model : input Layer (No. of features ), 3 hidden layers including 10,8,6 unit & Output Layer with activation function relu/tanh (check by experiment).\n",
    "- Compilation Step (Note : Its a Regression problem , select loss , metrics according to it)\n",
    "- Train the Model with Epochs (100) and validate it\n",
    "- If the model gets overfit tune your model by changing the units , No. of layers , activation function , epochs , add dropout layer or add Regularizer according to the need .\n",
    "- Evaluation Step\n",
    "- Prediction\n"
   ]
  },
  {
   "cell_type": "markdown",
   "metadata": {
    "id": "8_lYngD2OZJN"
   },
   "source": [
    "# Load Data:\n",
    "[Click Here to Download DataSet](https://github.com/ramsha275/ML_Datasets/blob/main/compresive_strength_concrete.csv)"
   ]
  },
  {
   "cell_type": "code",
   "execution_count": null,
   "metadata": {
    "id": "FgrSF5j_OZJO"
   },
   "outputs": [],
   "source": [
    "import tensorflow as tf\n",
    "import numpy as np\n",
    "import pandas as pd\n",
    "from tensorflow.keras import models, layers , optimizers"
   ]
  },
  {
   "cell_type": "code",
   "execution_count": null,
   "metadata": {
    "colab": {
     "base_uri": "https://localhost:8080/"
    },
    "id": "thBGRKLPPHZY",
    "outputId": "c2d7eaec-7be9-46a0-8730-9fcf5eca4c0d"
   },
   "outputs": [
    {
     "name": "stdout",
     "output_type": "stream",
     "text": [
      "Mounted at /content/gdrive\n"
     ]
    }
   ],
   "source": [
    "from google.colab import drive\n",
    "drive.mount(\"/content/gdrive\")"
   ]
  },
  {
   "cell_type": "code",
   "execution_count": null,
   "metadata": {
    "id": "H43i_gBFPe02"
   },
   "outputs": [],
   "source": [
    "df= pd.read_csv(\"/content/gdrive/MyDrive/compresive_strength_concrete.csv\")"
   ]
  },
  {
   "cell_type": "code",
   "execution_count": null,
   "metadata": {
    "colab": {
     "base_uri": "https://localhost:8080/",
     "height": 255
    },
    "id": "oH6RIxSbQy3d",
    "outputId": "b2de4098-1bee-4fae-bbf1-08fad78068e4"
   },
   "outputs": [
    {
     "data": {
      "text/html": [
       "<div>\n",
       "<style scoped>\n",
       "    .dataframe tbody tr th:only-of-type {\n",
       "        vertical-align: middle;\n",
       "    }\n",
       "\n",
       "    .dataframe tbody tr th {\n",
       "        vertical-align: top;\n",
       "    }\n",
       "\n",
       "    .dataframe thead th {\n",
       "        text-align: right;\n",
       "    }\n",
       "</style>\n",
       "<table border=\"1\" class=\"dataframe\">\n",
       "  <thead>\n",
       "    <tr style=\"text-align: right;\">\n",
       "      <th></th>\n",
       "      <th>Cement (component 1)(kg in a m^3 mixture)</th>\n",
       "      <th>Blast Furnace Slag (component 2)(kg in a m^3 mixture)</th>\n",
       "      <th>Fly Ash (component 3)(kg in a m^3 mixture)</th>\n",
       "      <th>Water  (component 4)(kg in a m^3 mixture)</th>\n",
       "      <th>Superplasticizer (component 5)(kg in a m^3 mixture)</th>\n",
       "      <th>Coarse Aggregate  (component 6)(kg in a m^3 mixture)</th>\n",
       "      <th>Fine Aggregate (component 7)(kg in a m^3 mixture)</th>\n",
       "      <th>Age (day)</th>\n",
       "      <th>Concrete compressive strength(MPa, megapascals)</th>\n",
       "    </tr>\n",
       "  </thead>\n",
       "  <tbody>\n",
       "    <tr>\n",
       "      <th>0</th>\n",
       "      <td>540.0</td>\n",
       "      <td>0.0</td>\n",
       "      <td>0.0</td>\n",
       "      <td>162.0</td>\n",
       "      <td>2.5</td>\n",
       "      <td>1040.0</td>\n",
       "      <td>676.0</td>\n",
       "      <td>28</td>\n",
       "      <td>79.99</td>\n",
       "    </tr>\n",
       "    <tr>\n",
       "      <th>1</th>\n",
       "      <td>540.0</td>\n",
       "      <td>0.0</td>\n",
       "      <td>0.0</td>\n",
       "      <td>162.0</td>\n",
       "      <td>2.5</td>\n",
       "      <td>1055.0</td>\n",
       "      <td>676.0</td>\n",
       "      <td>28</td>\n",
       "      <td>61.89</td>\n",
       "    </tr>\n",
       "    <tr>\n",
       "      <th>2</th>\n",
       "      <td>332.5</td>\n",
       "      <td>142.5</td>\n",
       "      <td>0.0</td>\n",
       "      <td>228.0</td>\n",
       "      <td>0.0</td>\n",
       "      <td>932.0</td>\n",
       "      <td>594.0</td>\n",
       "      <td>270</td>\n",
       "      <td>40.27</td>\n",
       "    </tr>\n",
       "    <tr>\n",
       "      <th>3</th>\n",
       "      <td>332.5</td>\n",
       "      <td>142.5</td>\n",
       "      <td>0.0</td>\n",
       "      <td>228.0</td>\n",
       "      <td>0.0</td>\n",
       "      <td>932.0</td>\n",
       "      <td>594.0</td>\n",
       "      <td>365</td>\n",
       "      <td>41.05</td>\n",
       "    </tr>\n",
       "    <tr>\n",
       "      <th>4</th>\n",
       "      <td>198.6</td>\n",
       "      <td>132.4</td>\n",
       "      <td>0.0</td>\n",
       "      <td>192.0</td>\n",
       "      <td>0.0</td>\n",
       "      <td>978.4</td>\n",
       "      <td>825.5</td>\n",
       "      <td>360</td>\n",
       "      <td>44.30</td>\n",
       "    </tr>\n",
       "  </tbody>\n",
       "</table>\n",
       "</div>"
      ],
      "text/plain": [
       "   Cement (component 1)(kg in a m^3 mixture)  ...  Concrete compressive strength(MPa, megapascals) \n",
       "0                                      540.0  ...                                             79.99\n",
       "1                                      540.0  ...                                             61.89\n",
       "2                                      332.5  ...                                             40.27\n",
       "3                                      332.5  ...                                             41.05\n",
       "4                                      198.6  ...                                             44.30\n",
       "\n",
       "[5 rows x 9 columns]"
      ]
     },
     "execution_count": 4,
     "metadata": {
      "tags": []
     },
     "output_type": "execute_result"
    }
   ],
   "source": [
    "df.head()"
   ]
  },
  {
   "cell_type": "code",
   "execution_count": null,
   "metadata": {
    "colab": {
     "base_uri": "https://localhost:8080/"
    },
    "id": "q8S-QLsBR4Bd",
    "outputId": "0becc1de-2209-49d1-bb32-cb0094e3f596"
   },
   "outputs": [
    {
     "data": {
      "text/plain": [
       "Cement (component 1)(kg in a m^3 mixture)                0\n",
       "Blast Furnace Slag (component 2)(kg in a m^3 mixture)    0\n",
       "Fly Ash (component 3)(kg in a m^3 mixture)               0\n",
       "Water  (component 4)(kg in a m^3 mixture)                0\n",
       "Superplasticizer (component 5)(kg in a m^3 mixture)      0\n",
       "Coarse Aggregate  (component 6)(kg in a m^3 mixture)     0\n",
       "Fine Aggregate (component 7)(kg in a m^3 mixture)        0\n",
       "Age (day)                                                0\n",
       "Concrete compressive strength(MPa, megapascals)          0\n",
       "dtype: int64"
      ]
     },
     "execution_count": 5,
     "metadata": {
      "tags": []
     },
     "output_type": "execute_result"
    }
   ],
   "source": [
    "df.isnull().sum()"
   ]
  },
  {
   "cell_type": "code",
   "execution_count": null,
   "metadata": {
    "colab": {
     "base_uri": "https://localhost:8080/",
     "height": 348
    },
    "id": "NAoNRjCbSKxZ",
    "outputId": "c518539c-b105-4fcc-b264-a54e8f3e2a1e"
   },
   "outputs": [
    {
     "data": {
      "text/html": [
       "<div>\n",
       "<style scoped>\n",
       "    .dataframe tbody tr th:only-of-type {\n",
       "        vertical-align: middle;\n",
       "    }\n",
       "\n",
       "    .dataframe tbody tr th {\n",
       "        vertical-align: top;\n",
       "    }\n",
       "\n",
       "    .dataframe thead th {\n",
       "        text-align: right;\n",
       "    }\n",
       "</style>\n",
       "<table border=\"1\" class=\"dataframe\">\n",
       "  <thead>\n",
       "    <tr style=\"text-align: right;\">\n",
       "      <th></th>\n",
       "      <th>Cement (component 1)(kg in a m^3 mixture)</th>\n",
       "      <th>Blast Furnace Slag (component 2)(kg in a m^3 mixture)</th>\n",
       "      <th>Fly Ash (component 3)(kg in a m^3 mixture)</th>\n",
       "      <th>Water  (component 4)(kg in a m^3 mixture)</th>\n",
       "      <th>Superplasticizer (component 5)(kg in a m^3 mixture)</th>\n",
       "      <th>Coarse Aggregate  (component 6)(kg in a m^3 mixture)</th>\n",
       "      <th>Fine Aggregate (component 7)(kg in a m^3 mixture)</th>\n",
       "      <th>Age (day)</th>\n",
       "      <th>Concrete compressive strength(MPa, megapascals)</th>\n",
       "    </tr>\n",
       "  </thead>\n",
       "  <tbody>\n",
       "    <tr>\n",
       "      <th>count</th>\n",
       "      <td>1030.000000</td>\n",
       "      <td>1030.000000</td>\n",
       "      <td>1030.000000</td>\n",
       "      <td>1030.000000</td>\n",
       "      <td>1030.000000</td>\n",
       "      <td>1030.000000</td>\n",
       "      <td>1030.000000</td>\n",
       "      <td>1030.000000</td>\n",
       "      <td>1030.000000</td>\n",
       "    </tr>\n",
       "    <tr>\n",
       "      <th>mean</th>\n",
       "      <td>281.167864</td>\n",
       "      <td>73.895825</td>\n",
       "      <td>54.188350</td>\n",
       "      <td>181.567282</td>\n",
       "      <td>6.204660</td>\n",
       "      <td>972.918932</td>\n",
       "      <td>773.580485</td>\n",
       "      <td>45.662136</td>\n",
       "      <td>35.817961</td>\n",
       "    </tr>\n",
       "    <tr>\n",
       "      <th>std</th>\n",
       "      <td>104.506364</td>\n",
       "      <td>86.279342</td>\n",
       "      <td>63.997004</td>\n",
       "      <td>21.354219</td>\n",
       "      <td>5.973841</td>\n",
       "      <td>77.753954</td>\n",
       "      <td>80.175980</td>\n",
       "      <td>63.169912</td>\n",
       "      <td>16.705742</td>\n",
       "    </tr>\n",
       "    <tr>\n",
       "      <th>min</th>\n",
       "      <td>102.000000</td>\n",
       "      <td>0.000000</td>\n",
       "      <td>0.000000</td>\n",
       "      <td>121.800000</td>\n",
       "      <td>0.000000</td>\n",
       "      <td>801.000000</td>\n",
       "      <td>594.000000</td>\n",
       "      <td>1.000000</td>\n",
       "      <td>2.330000</td>\n",
       "    </tr>\n",
       "    <tr>\n",
       "      <th>25%</th>\n",
       "      <td>192.375000</td>\n",
       "      <td>0.000000</td>\n",
       "      <td>0.000000</td>\n",
       "      <td>164.900000</td>\n",
       "      <td>0.000000</td>\n",
       "      <td>932.000000</td>\n",
       "      <td>730.950000</td>\n",
       "      <td>7.000000</td>\n",
       "      <td>23.710000</td>\n",
       "    </tr>\n",
       "    <tr>\n",
       "      <th>50%</th>\n",
       "      <td>272.900000</td>\n",
       "      <td>22.000000</td>\n",
       "      <td>0.000000</td>\n",
       "      <td>185.000000</td>\n",
       "      <td>6.400000</td>\n",
       "      <td>968.000000</td>\n",
       "      <td>779.500000</td>\n",
       "      <td>28.000000</td>\n",
       "      <td>34.445000</td>\n",
       "    </tr>\n",
       "    <tr>\n",
       "      <th>75%</th>\n",
       "      <td>350.000000</td>\n",
       "      <td>142.950000</td>\n",
       "      <td>118.300000</td>\n",
       "      <td>192.000000</td>\n",
       "      <td>10.200000</td>\n",
       "      <td>1029.400000</td>\n",
       "      <td>824.000000</td>\n",
       "      <td>56.000000</td>\n",
       "      <td>46.135000</td>\n",
       "    </tr>\n",
       "    <tr>\n",
       "      <th>max</th>\n",
       "      <td>540.000000</td>\n",
       "      <td>359.400000</td>\n",
       "      <td>200.100000</td>\n",
       "      <td>247.000000</td>\n",
       "      <td>32.200000</td>\n",
       "      <td>1145.000000</td>\n",
       "      <td>992.600000</td>\n",
       "      <td>365.000000</td>\n",
       "      <td>82.600000</td>\n",
       "    </tr>\n",
       "  </tbody>\n",
       "</table>\n",
       "</div>"
      ],
      "text/plain": [
       "       Cement (component 1)(kg in a m^3 mixture)  ...  Concrete compressive strength(MPa, megapascals) \n",
       "count                                1030.000000  ...                                       1030.000000\n",
       "mean                                  281.167864  ...                                         35.817961\n",
       "std                                   104.506364  ...                                         16.705742\n",
       "min                                   102.000000  ...                                          2.330000\n",
       "25%                                   192.375000  ...                                         23.710000\n",
       "50%                                   272.900000  ...                                         34.445000\n",
       "75%                                   350.000000  ...                                         46.135000\n",
       "max                                   540.000000  ...                                         82.600000\n",
       "\n",
       "[8 rows x 9 columns]"
      ]
     },
     "execution_count": 6,
     "metadata": {
      "tags": []
     },
     "output_type": "execute_result"
    }
   ],
   "source": [
    "df.describe()"
   ]
  },
  {
   "cell_type": "code",
   "execution_count": null,
   "metadata": {
    "colab": {
     "base_uri": "https://localhost:8080/"
    },
    "id": "NHZ4H5GPSUz8",
    "outputId": "4506cf77-7d0e-4fd0-e016-fdf143aa4b92"
   },
   "outputs": [
    {
     "name": "stdout",
     "output_type": "stream",
     "text": [
      "<class 'pandas.core.frame.DataFrame'>\n",
      "RangeIndex: 1030 entries, 0 to 1029\n",
      "Data columns (total 9 columns):\n",
      " #   Column                                                 Non-Null Count  Dtype  \n",
      "---  ------                                                 --------------  -----  \n",
      " 0   Cement (component 1)(kg in a m^3 mixture)              1030 non-null   float64\n",
      " 1   Blast Furnace Slag (component 2)(kg in a m^3 mixture)  1030 non-null   float64\n",
      " 2   Fly Ash (component 3)(kg in a m^3 mixture)             1030 non-null   float64\n",
      " 3   Water  (component 4)(kg in a m^3 mixture)              1030 non-null   float64\n",
      " 4   Superplasticizer (component 5)(kg in a m^3 mixture)    1030 non-null   float64\n",
      " 5   Coarse Aggregate  (component 6)(kg in a m^3 mixture)   1030 non-null   float64\n",
      " 6   Fine Aggregate (component 7)(kg in a m^3 mixture)      1030 non-null   float64\n",
      " 7   Age (day)                                              1030 non-null   int64  \n",
      " 8   Concrete compressive strength(MPa, megapascals)        1030 non-null   float64\n",
      "dtypes: float64(8), int64(1)\n",
      "memory usage: 72.5 KB\n"
     ]
    }
   ],
   "source": [
    "df.info()"
   ]
  },
  {
   "cell_type": "code",
   "execution_count": null,
   "metadata": {
    "colab": {
     "base_uri": "https://localhost:8080/"
    },
    "id": "1BOyIHonVu9W",
    "outputId": "157f8be5-2a12-45a1-cf4f-6fda531e18a9"
   },
   "outputs": [
    {
     "data": {
      "text/plain": [
       "Index(['Cement (component 1)(kg in a m^3 mixture)',\n",
       "       'Blast Furnace Slag (component 2)(kg in a m^3 mixture)',\n",
       "       'Fly Ash (component 3)(kg in a m^3 mixture)',\n",
       "       'Water  (component 4)(kg in a m^3 mixture)',\n",
       "       'Superplasticizer (component 5)(kg in a m^3 mixture)',\n",
       "       'Coarse Aggregate  (component 6)(kg in a m^3 mixture)',\n",
       "       'Fine Aggregate (component 7)(kg in a m^3 mixture)', 'Age (day)',\n",
       "       'Concrete compressive strength(MPa, megapascals) '],\n",
       "      dtype='object')"
      ]
     },
     "execution_count": 8,
     "metadata": {
      "tags": []
     },
     "output_type": "execute_result"
    }
   ],
   "source": [
    "df.keys()# to gets columns name"
   ]
  },
  {
   "cell_type": "code",
   "execution_count": null,
   "metadata": {
    "id": "0pI6EOmVSYA9"
   },
   "outputs": [],
   "source": [
    "# split dataframe into input and output\n",
    "data=df.iloc[:,:8]\n",
    "\n",
    "targets=df.iloc[:,-1]"
   ]
  },
  {
   "cell_type": "code",
   "execution_count": null,
   "metadata": {
    "colab": {
     "base_uri": "https://localhost:8080/",
     "height": 1000
    },
    "id": "VgcX-c4uV9H1",
    "outputId": "4bce68d7-6688-4839-d155-8ef96f63d999"
   },
   "outputs": [
    {
     "data": {
      "image/png": "[encoded data removed]",
      "text/plain": [
       "<Figure size 2160x2160 with 9 Axes>"
      ]
     },
     "metadata": {
      "tags": []
     },
     "output_type": "display_data"
    }
   ],
   "source": [
    "%matplotlib inline\n",
    "import matplotlib.pyplot as plt\n",
    "plt.style.use('ggplot')\n",
    "pd.DataFrame.hist(data, figsize = [30,30], color=\"Green\")\n",
    "plt.show()"
   ]
  },
  {
   "cell_type": "code",
   "execution_count": null,
   "metadata": {
    "colab": {
     "base_uri": "https://localhost:8080/",
     "height": 445
    },
    "id": "zNhK-R69vqFN",
    "outputId": "0c96d1c5-ef5e-4bad-c94c-b157af754bd0"
   },
   "outputs": [
    {
     "data": {
      "image/png": "[encoded data removed]",
      "text/plain": [
       "<Figure size 504x504 with 1 Axes>"
      ]
     },
     "metadata": {
      "tags": []
     },
     "output_type": "display_data"
    }
   ],
   "source": [
    "plt.style.use('ggplot')\n",
    "targets.hist( figsize = [7,7], color=\"Blue\")\n",
    "plt.title(\"Actual Targets\")\n",
    "plt.show()"
   ]
  },
  {
   "cell_type": "code",
   "execution_count": null,
   "metadata": {
    "id": "mel2k2Nwf0LI"
   },
   "outputs": [],
   "source": [
    "# standardized or normalized the data (input variables)\n",
    "mean = data.mean(axis=0)\n",
    "data-= mean\n",
    "std = data.std(axis=0)\n",
    "data/= std"
   ]
  },
  {
   "cell_type": "code",
   "execution_count": null,
   "metadata": {
    "id": "e6Q4b8UpXI8a"
   },
   "outputs": [],
   "source": [
    "# data spliting using machine learning spliting method\n",
    "from sklearn.model_selection import train_test_split\n",
    "X_train,X_test,y_train,y_test=train_test_split(data,targets,random_state=0)"
   ]
  },
  {
   "cell_type": "code",
   "execution_count": null,
   "metadata": {
    "colab": {
     "base_uri": "https://localhost:8080/"
    },
    "id": "cxld28AodAxY",
    "outputId": "ef7039a6-c353-4953-d669-8d2c05f8892c"
   },
   "outputs": [
    {
     "name": "stdout",
     "output_type": "stream",
     "text": [
      "Shape of training data :(772, 8),\n",
      "Shape of training targets:(772,)\n"
     ]
    }
   ],
   "source": [
    "print(f\"Shape of training data :{X_train.shape},\\nShape of training targets:{y_train.shape}\")"
   ]
  },
  {
   "cell_type": "code",
   "execution_count": null,
   "metadata": {
    "colab": {
     "base_uri": "https://localhost:8080/"
    },
    "id": "XsIXmksBdKGl",
    "outputId": "90ffa9ff-5c1f-449e-c901-5cb05d73312c"
   },
   "outputs": [
    {
     "name": "stdout",
     "output_type": "stream",
     "text": [
      "Shape of testing data :(258, 8),\n",
      "Shape of testing targets:(258,)\n"
     ]
    }
   ],
   "source": [
    "print(f\"Shape of testing data :{X_test.shape},\\nShape of testing targets:{y_test.shape}\")"
   ]
  },
  {
   "cell_type": "code",
   "execution_count": null,
   "metadata": {
    "id": "pJ4OdxP9g5Wa"
   },
   "outputs": [],
   "source": [
    "X_train= np.asarray(X_train).astype('float32')\n",
    "X_test= np.asarray(X_test).astype('float32')\n"
   ]
  },
  {
   "cell_type": "code",
   "execution_count": null,
   "metadata": {
    "id": "uTKLaC-_jgZC"
   },
   "outputs": [],
   "source": [
    "val_X = X_train[:230]\n",
    "partial_X_train=X_train[230:]\n",
    "val_y=y_train[:230]\n",
    "partial_y_train=y_train[230:]\n"
   ]
  },
  {
   "cell_type": "code",
   "execution_count": null,
   "metadata": {
    "id": "yI9PhkMyhH9Q"
   },
   "outputs": [],
   "source": [
    "from keras import models, layers , optimizers"
   ]
  },
  {
   "cell_type": "code",
   "execution_count": null,
   "metadata": {
    "id": "FBHIpQiNhLsk"
   },
   "outputs": [],
   "source": [
    "network=models.Sequential()\n",
    "network.add(tf.keras.layers.Dense(10,activation=\"relu\",input_shape=(X_train.shape[1],)))\n",
    "network.add(tf.keras.layers.Dense(8,activation=\"relu\"))\n",
    "network.add(tf.keras.layers.Dense(1))\n"
   ]
  },
  {
   "cell_type": "code",
   "execution_count": null,
   "metadata": {
    "colab": {
     "base_uri": "https://localhost:8080/"
    },
    "id": "vxNlTIfWihRB",
    "outputId": "2e4c5b43-8773-44da-afd0-960f2daee68e"
   },
   "outputs": [
    {
     "name": "stdout",
     "output_type": "stream",
     "text": [
      "Model: \"sequential\"\n",
      "_________________________________________________________________\n",
      "Layer (type)                 Output Shape              Param #   \n",
      "=================================================================\n",
      "dense (Dense)                (None, 10)                90        \n",
      "_________________________________________________________________\n",
      "dense_1 (Dense)              (None, 8)                 88        \n",
      "_________________________________________________________________\n",
      "dense_2 (Dense)              (None, 1)                 9         \n",
      "=================================================================\n",
      "Total params: 187\n",
      "Trainable params: 187\n",
      "Non-trainable params: 0\n",
      "_________________________________________________________________\n"
     ]
    }
   ],
   "source": [
    "network.summary()"
   ]
  },
  {
   "cell_type": "code",
   "execution_count": null,
   "metadata": {
    "id": "DojP0-ZZipQE"
   },
   "outputs": [],
   "source": [
    "network.compile(optimizer=optimizers.RMSprop(lr=0.001), loss=\"mse\",metrics=['mae'])"
   ]
  },
  {
   "cell_type": "code",
   "execution_count": null,
   "metadata": {
    "colab": {
     "base_uri": "https://localhost:8080/"
    },
    "id": "KE-wc1irh7dL",
    "outputId": "4f222c88-ed81-4ac7-c35d-03d929697c6a"
   },
   "outputs": [
    {
     "name": "stdout",
     "output_type": "stream",
     "text": [
      "Epoch 1/10\n",
      "542/542 [==============================] - 1s 2ms/step - loss: 228.2416 - mae: 11.9803 - val_loss: 231.3306 - val_mae: 12.3365\n",
      "Epoch 2/10\n",
      "542/542 [==============================] - 1s 1ms/step - loss: 194.4006 - mae: 11.1911 - val_loss: 208.5373 - val_mae: 11.6359\n",
      "Epoch 3/10\n",
      "542/542 [==============================] - 1s 1ms/step - loss: 179.4741 - mae: 10.6709 - val_loss: 192.1631 - val_mae: 11.2043\n",
      "Epoch 4/10\n",
      "542/542 [==============================] - 1s 1ms/step - loss: 166.0736 - mae: 10.2928 - val_loss: 174.8127 - val_mae: 10.5846\n",
      "Epoch 5/10\n",
      "542/542 [==============================] - 1s 1ms/step - loss: 161.2122 - mae: 10.0535 - val_loss: 163.8926 - val_mae: 10.1796\n",
      "Epoch 6/10\n",
      "542/542 [==============================] - 1s 1ms/step - loss: 154.9717 - mae: 9.7488 - val_loss: 156.5477 - val_mae: 10.0759\n",
      "Epoch 7/10\n",
      "542/542 [==============================] - 1s 1ms/step - loss: 148.6139 - mae: 9.5402 - val_loss: 149.1398 - val_mae: 9.8197\n",
      "Epoch 8/10\n",
      "542/542 [==============================] - 1s 1ms/step - loss: 142.0981 - mae: 9.3685 - val_loss: 144.5114 - val_mae: 9.5357\n",
      "Epoch 9/10\n",
      "542/542 [==============================] - 1s 1ms/step - loss: 141.5942 - mae: 9.2684 - val_loss: 138.0665 - val_mae: 9.3565\n",
      "Epoch 10/10\n",
      "542/542 [==============================] - 1s 1ms/step - loss: 139.9193 - mae: 9.1238 - val_loss: 133.2513 - val_mae: 9.1658\n"
     ]
    }
   ],
   "source": [
    "history=network.fit(partial_X_train,partial_y_train,epochs=10,validation_data=(val_X,val_y),batch_size=1,verbose=1)"
   ]
  },
  {
   "cell_type": "code",
   "execution_count": null,
   "metadata": {
    "colab": {
     "base_uri": "https://localhost:8080/",
     "height": 299
    },
    "id": "XY28DpqQlLYr",
    "outputId": "7c613781-6f23-4f2f-b11b-59b2dddd5166"
   },
   "outputs": [
    {
     "data": {
      "image/png": "[encoded data removed]",
      "text/plain": [
       "<Figure size 432x288 with 1 Axes>"
      ]
     },
     "metadata": {
      "tags": []
     },
     "output_type": "display_data"
    }
   ],
   "source": [
    "loss = history.history['loss']\n",
    "val_loss = history.history['val_loss']\n",
    "epochs = range(1, len(loss) + 1)\n",
    "plt.plot(epochs, loss, 'bo', label='Training loss')\n",
    "plt.plot(epochs, val_loss, 'b', label='Validation loss')\n",
    "plt.title('Training and validation loss')\n",
    "plt.xlabel('Epochs')\n",
    "plt.ylabel('Loss')\n",
    "plt.legend()\n",
    "plt.show()"
   ]
  },
  {
   "cell_type": "code",
   "execution_count": null,
   "metadata": {
    "colab": {
     "base_uri": "https://localhost:8080/"
    },
    "id": "425Sn4TpmDgv",
    "outputId": "3592aa9a-a833-4e20-8f4a-c37bafff623f"
   },
   "outputs": [
    {
     "name": "stdout",
     "output_type": "stream",
     "text": [
      "[[12.336536407470703, 11.635929107666016, 11.204290390014648, 10.584555625915527, 10.179609298706055, 10.07591724395752, 9.819719314575195, 9.535701751708984, 9.356534004211426, 9.165823936462402]]\n"
     ]
    }
   ],
   "source": [
    "all_mae_histories=[]\n",
    "mae_history = history.history['val_mae']\n",
    "all_mae_histories.append(mae_history)\n",
    "print(all_mae_histories)"
   ]
  },
  {
   "cell_type": "code",
   "execution_count": null,
   "metadata": {
    "colab": {
     "base_uri": "https://localhost:8080/"
    },
    "id": "eYbwAuH9n0MS",
    "outputId": "70b750e4-22d1-489c-94c7-6ee7f5f5e190"
   },
   "outputs": [
    {
     "name": "stdout",
     "output_type": "stream",
     "text": [
      "[12.336536407470703, 11.635929107666016]\n"
     ]
    }
   ],
   "source": [
    "average_mae_history = [np.mean([x[i] for x in all_mae_histories]) for i in range(2)]\n",
    "print(average_mae_history)"
   ]
  },
  {
   "cell_type": "code",
   "execution_count": null,
   "metadata": {
    "colab": {
     "base_uri": "https://localhost:8080/",
     "height": 299
    },
    "id": "_QIM2eiRmxTw",
    "outputId": "10566647-da8a-47f4-f5b7-cb8d653f4a26"
   },
   "outputs": [
    {
     "data": {
      "image/png": "[encoded data removed]",
      "text/plain": [
       "<Figure size 432x288 with 1 Axes>"
      ]
     },
     "metadata": {
      "tags": []
     },
     "output_type": "display_data"
    }
   ],
   "source": [
    "plt.plot(range(1, len(average_mae_history) + 1), average_mae_history)\n",
    "plt.title('Validation MAE by Epochs')\n",
    "plt.xlabel('Epochs')\n",
    "plt.ylabel('Validation MAE')\n",
    "plt.grid()\n",
    "plt.show()"
   ]
  },
  {
   "cell_type": "code",
   "execution_count": null,
   "metadata": {
    "colab": {
     "base_uri": "https://localhost:8080/"
    },
    "id": "aedgvZfCoEqr",
    "outputId": "f95ca969-6576-4b34-bc2d-afe3fb9d08ff"
   },
   "outputs": [
    {
     "name": "stdout",
     "output_type": "stream",
     "text": [
      "9/9 [==============================] - 0s 2ms/step - loss: 118.9785 - mae: 8.6969\n"
     ]
    }
   ],
   "source": [
    "test_mse_score, test_mae_score = network.evaluate(X_test, y_test)"
   ]
  },
  {
   "cell_type": "code",
   "execution_count": null,
   "metadata": {
    "colab": {
     "base_uri": "https://localhost:8080/"
    },
    "id": "VGsxBThTqvjm",
    "outputId": "74c17c30-9632-4063-b141-054f31e56519"
   },
   "outputs": [
    {
     "data": {
      "text/plain": [
       "8.696878433227539"
      ]
     },
     "execution_count": 34,
     "metadata": {
      "tags": []
     },
     "output_type": "execute_result"
    }
   ],
   "source": [
    " test_mae_score"
   ]
  },
  {
   "cell_type": "code",
   "execution_count": null,
   "metadata": {
    "colab": {
     "base_uri": "https://localhost:8080/"
    },
    "id": "qepWbko8rXy7",
    "outputId": "40b36f3b-9be9-428e-a07d-81d52fb9b110"
   },
   "outputs": [
    {
     "data": {
      "text/plain": [
       "array([[42.76763 ],\n",
       "       [19.515902],\n",
       "       [62.877213],\n",
       "       [41.06948 ],\n",
       "       [25.225458],\n",
       "       [56.453934],\n",
       "       [47.29799 ],\n",
       "       [28.29819 ],\n",
       "       [49.96289 ],\n",
       "       [42.106697],\n",
       "       [21.685938],\n",
       "       [43.04397 ],\n",
       "       [24.491974],\n",
       "       [30.265738],\n",
       "       [46.407608],\n",
       "       [57.652336],\n",
       "       [36.05773 ],\n",
       "       [25.894451],\n",
       "       [51.09201 ],\n",
       "       [31.295317],\n",
       "       [50.376324],\n",
       "       [34.134357],\n",
       "       [29.15418 ],\n",
       "       [50.56642 ],\n",
       "       [21.451902],\n",
       "       [23.123417],\n",
       "       [83.06993 ],\n",
       "       [26.315817],\n",
       "       [57.652336],\n",
       "       [49.543633],\n",
       "       [20.433413],\n",
       "       [34.283997],\n",
       "       [19.259565],\n",
       "       [25.828127],\n",
       "       [23.909704],\n",
       "       [16.532639],\n",
       "       [55.76042 ],\n",
       "       [25.452002],\n",
       "       [27.164873],\n",
       "       [23.507635],\n",
       "       [47.039562],\n",
       "       [27.784567],\n",
       "       [27.438993],\n",
       "       [32.46929 ],\n",
       "       [55.09707 ],\n",
       "       [52.342064],\n",
       "       [26.02027 ],\n",
       "       [46.505272],\n",
       "       [30.874226],\n",
       "       [68.43193 ],\n",
       "       [33.903893],\n",
       "       [17.465418],\n",
       "       [28.153387],\n",
       "       [31.12758 ],\n",
       "       [43.577435],\n",
       "       [43.491108],\n",
       "       [34.94702 ],\n",
       "       [51.494728],\n",
       "       [61.674232],\n",
       "       [36.148376],\n",
       "       [29.525284],\n",
       "       [16.23009 ],\n",
       "       [47.652863],\n",
       "       [61.44116 ],\n",
       "       [18.220911],\n",
       "       [43.3124  ],\n",
       "       [30.033869],\n",
       "       [34.122044],\n",
       "       [23.543543],\n",
       "       [21.440714],\n",
       "       [28.098707],\n",
       "       [29.102335],\n",
       "       [53.04688 ],\n",
       "       [18.26496 ],\n",
       "       [28.812714],\n",
       "       [48.46329 ],\n",
       "       [23.064611],\n",
       "       [19.050722],\n",
       "       [20.095846],\n",
       "       [25.638033],\n",
       "       [20.693548],\n",
       "       [47.28305 ],\n",
       "       [31.014677],\n",
       "       [27.213282],\n",
       "       [35.699547],\n",
       "       [34.621735],\n",
       "       [45.241676],\n",
       "       [45.97209 ],\n",
       "       [39.336796],\n",
       "       [32.67927 ],\n",
       "       [51.619144],\n",
       "       [15.612304],\n",
       "       [26.63157 ],\n",
       "       [38.25985 ],\n",
       "       [32.51504 ],\n",
       "       [63.49527 ],\n",
       "       [28.60605 ],\n",
       "       [31.516006],\n",
       "       [48.99228 ],\n",
       "       [23.393158],\n",
       "       [20.1033  ],\n",
       "       [37.92341 ],\n",
       "       [21.529774],\n",
       "       [32.332912],\n",
       "       [34.94802 ],\n",
       "       [33.631207],\n",
       "       [37.620026],\n",
       "       [33.99881 ],\n",
       "       [25.813421],\n",
       "       [38.226063],\n",
       "       [20.94669 ],\n",
       "       [51.04847 ],\n",
       "       [23.957872],\n",
       "       [26.805334],\n",
       "       [40.236885],\n",
       "       [69.76263 ],\n",
       "       [29.707014],\n",
       "       [43.219498],\n",
       "       [40.99263 ],\n",
       "       [25.10826 ],\n",
       "       [46.052574],\n",
       "       [23.715734],\n",
       "       [65.042755],\n",
       "       [20.952396],\n",
       "       [24.124565],\n",
       "       [18.054039],\n",
       "       [19.247202],\n",
       "       [22.353785],\n",
       "       [37.06041 ],\n",
       "       [28.695444],\n",
       "       [29.505814],\n",
       "       [54.94724 ],\n",
       "       [29.093204],\n",
       "       [29.788746],\n",
       "       [18.570742],\n",
       "       [52.949074],\n",
       "       [69.701485],\n",
       "       [33.014782],\n",
       "       [20.58314 ],\n",
       "       [21.096945],\n",
       "       [38.666916],\n",
       "       [54.42793 ],\n",
       "       [28.382814],\n",
       "       [29.245543],\n",
       "       [19.088924],\n",
       "       [37.417694],\n",
       "       [42.668926],\n",
       "       [19.716053],\n",
       "       [22.74095 ],\n",
       "       [21.569145],\n",
       "       [21.297606],\n",
       "       [40.776825],\n",
       "       [20.644901],\n",
       "       [25.982967],\n",
       "       [27.889338],\n",
       "       [27.488428],\n",
       "       [43.361454],\n",
       "       [27.464743],\n",
       "       [29.137537],\n",
       "       [17.02482 ],\n",
       "       [41.841545],\n",
       "       [37.356056],\n",
       "       [33.99069 ],\n",
       "       [24.637197],\n",
       "       [35.61776 ],\n",
       "       [18.731405],\n",
       "       [67.3933  ],\n",
       "       [52.797745],\n",
       "       [68.95123 ],\n",
       "       [10.987401],\n",
       "       [34.024254],\n",
       "       [30.014172],\n",
       "       [17.808668],\n",
       "       [67.87194 ],\n",
       "       [14.84338 ],\n",
       "       [19.200697],\n",
       "       [25.137424],\n",
       "       [46.148285],\n",
       "       [19.331604],\n",
       "       [43.61562 ],\n",
       "       [32.18234 ],\n",
       "       [31.878546],\n",
       "       [20.37554 ],\n",
       "       [38.165737],\n",
       "       [28.44098 ],\n",
       "       [27.885386],\n",
       "       [41.49472 ],\n",
       "       [38.121162],\n",
       "       [26.907637],\n",
       "       [47.652863],\n",
       "       [18.562078],\n",
       "       [87.99984 ],\n",
       "       [43.62    ],\n",
       "       [25.974781],\n",
       "       [20.971045],\n",
       "       [28.224367],\n",
       "       [30.78755 ],\n",
       "       [30.46423 ],\n",
       "       [27.68044 ],\n",
       "       [56.13603 ],\n",
       "       [16.301308],\n",
       "       [16.66997 ],\n",
       "       [48.14884 ],\n",
       "       [26.818193],\n",
       "       [30.14643 ],\n",
       "       [17.792059],\n",
       "       [33.186256],\n",
       "       [27.327204],\n",
       "       [34.18487 ],\n",
       "       [20.933447],\n",
       "       [54.19921 ],\n",
       "       [20.35497 ],\n",
       "       [20.470217],\n",
       "       [25.439985],\n",
       "       [29.88075 ],\n",
       "       [26.56962 ],\n",
       "       [20.900314],\n",
       "       [42.504837],\n",
       "       [17.397968],\n",
       "       [40.22437 ],\n",
       "       [57.207047],\n",
       "       [31.58112 ],\n",
       "       [39.461605],\n",
       "       [39.297993],\n",
       "       [48.325   ],\n",
       "       [34.563545],\n",
       "       [23.149055],\n",
       "       [31.02786 ],\n",
       "       [32.211662],\n",
       "       [47.95064 ],\n",
       "       [30.858978],\n",
       "       [40.19703 ],\n",
       "       [65.17932 ],\n",
       "       [21.778933],\n",
       "       [38.132458],\n",
       "       [27.453539],\n",
       "       [31.491392],\n",
       "       [37.93235 ],\n",
       "       [29.57961 ],\n",
       "       [60.32922 ],\n",
       "       [64.94946 ],\n",
       "       [30.184359],\n",
       "       [42.540604],\n",
       "       [33.311356],\n",
       "       [24.803406],\n",
       "       [24.206541],\n",
       "       [45.689114],\n",
       "       [22.896236],\n",
       "       [32.762173],\n",
       "       [12.617482],\n",
       "       [11.332429],\n",
       "       [39.642612],\n",
       "       [39.52279 ],\n",
       "       [33.34464 ],\n",
       "       [38.536552],\n",
       "       [18.350672],\n",
       "       [26.919455],\n",
       "       [14.474394]], dtype=float32)"
      ]
     },
     "execution_count": 35,
     "metadata": {
      "tags": []
     },
     "output_type": "execute_result"
    }
   ],
   "source": [
    "y_pred = network.predict(X_test)\n",
    "y_pred"
   ]
  },
  {
   "cell_type": "code",
   "execution_count": null,
   "metadata": {
    "colab": {
     "base_uri": "https://localhost:8080/"
    },
    "id": "dBdthc-vsw4_",
    "outputId": "b39ee67c-0cb0-45b9-9f4a-2923869fbd43"
   },
   "outputs": [
    {
     "data": {
      "text/plain": [
       "747    26.06\n",
       "718    10.35\n",
       "175    79.30\n",
       "828    74.99\n",
       "713     9.69\n",
       "       ...  \n",
       "453    31.72\n",
       "906    39.42\n",
       "757    18.13\n",
       "875    18.28\n",
       "62      9.87\n",
       "Name: Concrete compressive strength(MPa, megapascals) , Length: 258, dtype: float64"
      ]
     },
     "execution_count": 36,
     "metadata": {
      "tags": []
     },
     "output_type": "execute_result"
    }
   ],
   "source": [
    "y_test"
   ]
  },
  {
   "cell_type": "code",
   "execution_count": null,
   "metadata": {
    "colab": {
     "base_uri": "https://localhost:8080/",
     "height": 337
    },
    "id": "osFYrcPkrnnE",
    "outputId": "cc835415-fae9-4240-b891-d77efa986f39"
   },
   "outputs": [
    {
     "data": {
      "image/png": "[encoded data removed]",
      "text/plain": [
       "<Figure size 1440x360 with 2 Axes>"
      ]
     },
     "metadata": {
      "tags": []
     },
     "output_type": "display_data"
    }
   ],
   "source": [
    "plt.figure(figsize=(20,5))\n",
    "plt.subplot(1, 2, 1 )\n",
    "plt.hist(targets)\n",
    "plt.xlabel('original target value')\n",
    "plt.ylabel('count')\n",
    "plt.subplot(1, 2, 2)\n",
    "plt.hist(y_pred)\n",
    "plt.xlabel('aggregated target value')\n",
    "plt.show()"
   ]
  }
 ],
 "metadata": {
  "colab": {
   "include_colab_link": true,
   "name": "Concrete_Strength_Assignment.ipynb",
   "provenance": []
  },
  "kernelspec": {
   "display_name": "Python 3",
   "language": "python",
   "name": "python3"
  },
  "language_info": {
   "codemirror_mode": {
    "name": "ipython",
    "version": 3
   },
   "file_extension": ".py",
   "mimetype": "text/x-python",
   "name": "python",
   "nbconvert_exporter": "python",
   "pygments_lexer": "ipython3",
   "version": "3.7.9"
  }
 },
 "nbformat": 4,
 "nbformat_minor": 1
}
